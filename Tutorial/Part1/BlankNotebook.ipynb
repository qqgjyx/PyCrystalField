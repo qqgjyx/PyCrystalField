{
 "cells": [
  {
   "cell_type": "code",
   "execution_count": 75,
   "id": "fb68230d345c0c2c",
   "metadata": {
    "collapsed": false,
    "ExecuteTime": {
     "end_time": "2024-04-04T14:00:58.570812Z",
     "start_time": "2024-04-04T14:00:58.568734Z"
    }
   },
   "outputs": [],
   "source": [
    "import numpy as np\n",
    "import matplotlib.pyplot as plt\n",
    "import PyCrystalField as cef"
   ]
  },
  {
   "cell_type": "code",
   "execution_count": 76,
   "id": "8dab677405cbef25",
   "metadata": {
    "collapsed": false,
    "ExecuteTime": {
     "end_time": "2024-04-04T14:00:58.602638Z",
     "start_time": "2024-04-04T14:00:58.578266Z"
    }
   },
   "outputs": [
    {
     "name": "stdout",
     "output_type": "stream",
     "text": [
      "Importing atoms\n",
      "   61 atoms added\n",
      ".cif import complete.\n",
      "No mag_ion ion listed, assuming Yb1 is the central ion.\n",
      "Central ion: Yb3+ at [0.0, 0.0, 0.0]\n",
      "    AAAH! There is a super-close atom. Removing it...\n",
      " Nearest ligand: O2-\n",
      "   Identified 8 O2- ligands.\n",
      "   Found 2 fold axis about [1. 0. 0.]\n",
      "    No mirror planes; using [1. 0. 0.]  as Z axis.\n",
      "\n",
      "\u001B[44m  Axes for point charge model (in ABC space):\n",
      "        X axis = [-0.5 -1.   0. ] \n",
      "        Y axis = [ 0.  0. -1.] \n",
      "        Z axis = [1. 0. 0.] \u001B[0m\n",
      "\n",
      "     \u001B[43m WARNING: there is no mirror symmetry along the Y axis, so \n",
      "\u001B[0m     \u001B[43m   we must inlcude the -m terms, and the eigenkets will be complex.\u001B[0m\n",
      "\n",
      "   Creating a point charge model...\n",
      "B_2 -2  =  -19.81475185\n",
      "B_2 -1  =  -22.88010467\n",
      "B_2 0  =  -6.63000503\n",
      "B_2 1  =  14.60962249\n",
      "B_2 2  =  -11.45514563\n",
      "B_4 -4  =  -0.41243455\n",
      "B_4 -3  =  0.13050495\n",
      "B_4 -2  =  0.13923798\n",
      "B_4 -1  =  -0.30740119\n",
      "B_4 0  =  0.00489654\n",
      "B_4 1  =  0.19628474\n",
      "B_4 2  =  0.04959308\n",
      "B_4 3  =  0.96799644\n",
      "B_4 4  =  0.41017483\n",
      "B_6 -6  =  0.00147152\n",
      "B_6 -5  =  0.04066557\n",
      "B_6 -4  =  0.00152884\n",
      "B_6 -3  =  0.00191977\n",
      "B_6 -2  =  0.00313218\n",
      "B_6 -1  =  -0.00683599\n",
      "B_6 0  =  0.00011205\n",
      "B_6 1  =  0.00436498\n",
      "B_6 2  =  0.00122986\n",
      "B_6 3  =  0.01423951\n",
      "B_6 4  =  -0.00066992\n",
      "B_6 5  =  0.0125903\n",
      "B_6 6  =  0.01015065\n"
     ]
    }
   ],
   "source": [
    "\n",
    "########### Import CIF file\n",
    "\n",
    "YTOLig, Yb = cef.importCIF('input1.cif')\n",
    "\n",
    "# YTOLig, Yb = cef.importCIF('input2.cif', mag_ion='Co1',ionS=3/2,ionL=3, LS_Coupling=-22.34)"
   ]
  },
  {
   "cell_type": "code",
   "execution_count": 77,
   "id": "16dc507788c9b485",
   "metadata": {
    "collapsed": false,
    "ExecuteTime": {
     "end_time": "2024-04-04T14:00:58.606347Z",
     "start_time": "2024-04-04T14:00:58.603583Z"
    }
   },
   "outputs": [
    {
     "name": "stdout",
     "output_type": "stream",
     "text": [
      "\n",
      " Eigenvalues \t Eigenvectors\n",
      "\t\t---------------------------------------------------------------\n",
      "0.00000 \t|  [ 0.6  +0.j     0.268-0.399j  0.113+0.181j  0.395+0.043j -0.116+0.158j\n",
      "  0.109+0.296j -0.255-0.044j  0.   +0.j   ]  |\n",
      "0.00000 \t|  [ 0.   +0.j    -0.121+0.228j  0.168+0.267j -0.196-0.005j -0.208+0.338j\n",
      " -0.074-0.201j -0.48 -0.033j  0.368-0.474j]  |\n",
      "219.16465 \t|  [ 0.063+0.j     0.086+0.394j  0.492+0.161j -0.057+0.003j  0.078+0.344j\n",
      "  0.056-0.017j  0.045+0.015j  0.048+0.656j]  |\n",
      "219.16465 \t|  [-0.657+0.j     0.018+0.044j  0.013-0.057j  0.349+0.053j  0.002+0.057j\n",
      "  0.196+0.479j -0.4  -0.057j  0.005+0.063j]  |\n",
      "452.24765 \t|  [ 0.039+0.j    -0.049-0.246j -0.389-0.181j -0.328+0.201j -0.019+0.135j\n",
      " -0.231-0.052j -0.478+0.34j   0.023+0.43j ]  |\n",
      "452.24765 \t|  [ 0.431+0.j    -0.314+0.495j -0.065-0.228j -0.134+0.027j  0.183-0.339j\n",
      "  0.201+0.378j -0.248-0.036j -0.002-0.039j]  |\n",
      "639.63328 \t|  [ 0.018+0.j    -0.135+0.079j  0.012+0.158j  0.505+0.197j  0.356-0.297j\n",
      " -0.115-0.553j -0.314-0.086j -0.076+0.103j]  |\n",
      "639.63328 \t|  [-0.128+0.j     0.118-0.303j  0.375+0.423j -0.451+0.109j  0.143-0.523j\n",
      "  0.119+0.104j -0.144+0.061j -0.011+0.014j]  |\n",
      "\t\t---------------------------------------------------------------\n"
     ]
    }
   ],
   "source": [
    "\n",
    "########### print eigenvectors\n",
    "\n",
    "Yb.printEigenvectors() "
   ]
  },
  {
   "cell_type": "markdown",
   "source": [],
   "metadata": {
    "collapsed": false
   },
   "id": "8c4bd6632ee8504d"
  },
  {
   "cell_type": "code",
   "execution_count": 78,
   "id": "98cd8831da32dc6d",
   "metadata": {
    "collapsed": false,
    "ExecuteTime": {
     "end_time": "2024-04-04T14:00:58.659239Z",
     "start_time": "2024-04-04T14:00:58.607006Z"
    }
   },
   "outputs": [
    {
     "data": {
      "text/plain": "<Figure size 640x480 with 1 Axes>",
      "image/png": "[encoded data removed]"
     },
     "metadata": {},
     "output_type": "display_data"
    }
   ],
   "source": [
    "\n",
    "########### plot neutron spectrum\n",
    "\n",
    "hw = np.linspace(0,1200,100)\n",
    "\n",
    "intens = Yb.normalizedNeutronSpectrum(hw, Temp=20, \n",
    "\tResFunc= lambda x: 4, gamma = 1)\n",
    "\n",
    "plt.figure()\n",
    "plt.plot(hw, intens)\n",
    "plt.show()\n"
   ]
  },
  {
   "cell_type": "code",
   "execution_count": 79,
   "id": "37666429",
   "metadata": {
    "ExecuteTime": {
     "end_time": "2024-04-04T14:00:58.663952Z",
     "start_time": "2024-04-04T14:00:58.660689Z"
    }
   },
   "outputs": [
    {
     "name": "stdout",
     "output_type": "stream",
     "text": [
      "G tensor:\n",
      " [[-0.43801746 -4.28216728  0.7301048 ]\n",
      " [ 1.4921727  -2.44982845 -0.57675432]\n",
      " [ 1.12800883  0.1626901   3.77440644]]\n"
     ]
    }
   ],
   "source": [
    "\n",
    "########### print g tensor\n",
    "\n",
    "g = Yb.gtensor()\n",
    "print('G tensor:\\n',g)"
   ]
  },
  {
   "cell_type": "code",
   "execution_count": 80,
   "id": "e697385cceb07bdd",
   "metadata": {
    "collapsed": false,
    "ExecuteTime": {
     "end_time": "2024-04-04T14:00:58.669959Z",
     "start_time": "2024-04-04T14:00:58.667226Z"
    }
   },
   "outputs": [
    {
     "name": "stdout",
     "output_type": "stream",
     "text": [
      "\\begin{table*}\n",
      "\\caption{Eigenvectors and Eigenvalues...}\n",
      "\\begin{ruledtabular}\n",
      "\\begin{tabular}{c|cccccccc}\n",
      "E (meV) &$| -\\frac{7}{2}\\rangle$ & $| -\\frac{5}{2}\\rangle$ & $| -\\frac{3}{2}\\rangle$ & $| -\\frac{1}{2}\\rangle$ & $| \\frac{1}{2}\\rangle$ & $| \\frac{3}{2}\\rangle$ & $| \\frac{5}{2}\\rangle$ & $| \\frac{7}{2}\\rangle$ \\tabularnewline\n",
      " \\hline \n",
      "0.000 & (0.6003+0j) & (0.2684-0.399j) & (0.1134+0.1814j) & (0.3948+0.0426j) & (-0.1162+0.1582j) & (0.1085+0.2962j) & (-0.2547-0.0444j) & 0j \\tabularnewline\n",
      "0.000 & 0j & (-0.1211+0.2284j) & (0.1675+0.2674j) & (-0.1962-0.0052j) & (-0.2084+0.338j) & (-0.0737-0.2008j) & (-0.4798-0.0325j) & (0.3681-0.4743j) \\tabularnewline\n",
      "219.165 & (0.063+0j) & (0.0858+0.3944j) & (0.4917+0.1606j) & (-0.0575+0.0025j) & (0.0783+0.344j) & (0.056-0.0169j) & (0.0455+0.0151j) & (0.0483+0.6556j) \\tabularnewline\n",
      "219.165 & (-0.6573+0j) & (0.0184+0.0442j) & (0.0127-0.0571j) & (0.3489+0.0528j) & (0.0017+0.0575j) & (0.1962+0.4785j) & (-0.3996-0.0566j) & (0.0046+0.0628j) \\tabularnewline\n",
      "452.248 & (0.0391+0j) & (-0.0494-0.2457j) & (-0.3886-0.1806j) & (-0.3283+0.2007j) & (-0.0195+0.1354j) & (-0.2314-0.0523j) & (-0.4776+0.3399j) & (0.0232+0.4299j) \\tabularnewline\n",
      "452.248 & (0.4305+0j) & (-0.3136+0.4952j) & (-0.0647-0.2282j) & (-0.1342+0.0268j) & (0.1827-0.3386j) & (0.2013+0.3783j) & (-0.248-0.0361j) & (-0.0021-0.0391j) \\tabularnewline\n",
      "639.633 & (0.0177+0j) & (-0.1347+0.0791j) & (0.0119+0.1576j) & (0.5054+0.1975j) & (0.3561-0.2966j) & (-0.1154-0.5528j) & (-0.3138-0.0861j) & (-0.0763+0.1025j) \\tabularnewline\n",
      "639.633 & (-0.1278+0j) & (0.1182-0.3032j) & (0.3746+0.4226j) & (-0.4505+0.1086j) & (0.1433-0.5234j) & (0.1193+0.1036j) & (-0.1438+0.0609j) & (-0.0106+0.0142j) \\tabularnewline\n",
      "\\end{tabular}\\end{ruledtabular}\n",
      "\\label{flo:Eigenvectors}\n",
      "\\end{table*}\n"
     ]
    }
   ],
   "source": [
    "Yb.printLaTexEigenvectors()"
   ]
  },
  {
   "cell_type": "code",
   "execution_count": 80,
   "id": "6c89a5aa9e4b1137",
   "metadata": {
    "collapsed": false,
    "ExecuteTime": {
     "end_time": "2024-04-04T14:00:58.672316Z",
     "start_time": "2024-04-04T14:00:58.670720Z"
    }
   },
   "outputs": [],
   "source": []
  }
 ],
 "metadata": {
  "kernelspec": {
   "display_name": "Python 3 (ipykernel)",
   "language": "python",
   "name": "python3"
  },
  "language_info": {
   "codemirror_mode": {
    "name": "ipython",
    "version": 3
   },
   "file_extension": ".py",
   "mimetype": "text/x-python",
   "name": "python",
   "nbconvert_exporter": "python",
   "pygments_lexer": "ipython3",
   "version": "3.10.0"
  }
 },
 "nbformat": 4,
 "nbformat_minor": 5
}
