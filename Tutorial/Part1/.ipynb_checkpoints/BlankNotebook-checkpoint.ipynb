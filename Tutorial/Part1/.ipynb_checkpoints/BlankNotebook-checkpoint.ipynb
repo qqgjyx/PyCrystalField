{
 "cells": [
  {
   "cell_type": "code",
   "execution_count": 1,
   "id": "fb68230d345c0c2c",
   "metadata": {
    "ExecuteTime": {
     "end_time": "2024-04-04T11:40:04.184805Z",
     "start_time": "2024-04-04T11:40:04.178343Z"
    },
    "collapsed": false,
    "jupyter": {
     "outputs_hidden": false
    }
   },
   "outputs": [
    {
     "name": "stdout",
     "output_type": "stream",
     "text": [
      " *******************************************************\n",
      " *                PyCrystalField 2.3.9                 *\n",
      " *  Please cite  J. Appl. Cryst. (2021). 54, 356-362   * \n",
      " *    <https://doi.org/10.1107/S160057672001554X>      *\n",
      " *******************************************************\n",
      "\n"
     ]
    }
   ],
   "source": [
    "import numpy as np\n",
    "import matplotlib.pyplot as plt\n",
    "import PyCrystalField as cef\n",
    "from CifFile import ReadCif, CifFile "
   ]
  },
  {
   "cell_type": "code",
   "execution_count": 2,
   "id": "8dab677405cbef25",
   "metadata": {
    "ExecuteTime": {
     "end_time": "2024-04-04T11:40:04.204858Z",
     "start_time": "2024-04-04T11:40:04.188137Z"
    },
    "collapsed": false,
    "jupyter": {
     "outputs_hidden": false
    }
   },
   "outputs": [
    {
     "name": "stdout",
     "output_type": "stream",
     "text": [
      "Importing atoms\n",
      "   14 atoms added\n",
      ".cif import complete.\n",
      "Central ion: Co2+ at [0.0, 0.0, 0.5]\n",
      "    AAAH! There is a super-close atom. Removing it...\n",
      " Nearest ligand: O2-\n",
      "   Identified 6 O2- ligands.\n",
      "   Found 3 fold axis about [0. 0. 2.]\n",
      "   Found mirror plane: [1. 0. 0.]\n",
      "\n",
      "\u001b[44m  Axes for point charge model (in ABC space):\n",
      "        X axis = [-0.5 -1.   0. ] \n",
      "        Y axis = [1. 0. 0.] \n",
      "        Z axis = [0. 0. 1.] \u001b[0m\n",
      "\n",
      "B_2 0  =  -3.75064734\n",
      "B_2 1  =  -0.0\n",
      "B_2 2  =  0.0\n",
      "B_4 0  =  0.4487153\n",
      "B_4 1  =  -0.0\n",
      "B_4 2  =  -0.0\n",
      "B_4 3  =  -11.5116392\n",
      "B_4 4  =  -0.0\n"
     ]
    }
   ],
   "source": [
    "\n",
    "########### Import CIF file\n",
    "\n",
    "YTOLig, Yb = cef.importCIF('input2.cif', mag_ion='Co1',ionS=3/2,ionL=3, LS_Coupling=-65.34)"
   ]
  },
  {
   "cell_type": "code",
   "execution_count": 3,
   "id": "16dc507788c9b485",
   "metadata": {
    "ExecuteTime": {
     "end_time": "2024-04-04T11:40:04.212545Z",
     "start_time": "2024-04-04T11:40:04.206178Z"
    },
    "collapsed": false,
    "jupyter": {
     "outputs_hidden": false
    }
   },
   "outputs": [
    {
     "name": "stdout",
     "output_type": "stream",
     "text": [
      "\n",
      " Eigenvalues \t Eigenvectors\n",
      "\t\t-----------------------------------------------------------------------------------------------------------------------------------------------------------------------------------------------------------\n",
      "0.00000 \t|  [ 0.    -0.06  -0.192 -0.    -0.106 -0.285  0.     0.007 -0.1    0.\n",
      "  0.028  0.213  0.     0.047  0.317  0.     0.032  0.188  0.     0.015\n",
      "  0.045  0.     0.042  0.709  0.     0.029  0.406  0.   ]  |\n",
      "0.00000 \t|  [ 0.    -0.406  0.029 -0.    -0.709  0.042 -0.     0.045  0.015 -0.\n",
      "  0.188 -0.032 -0.     0.317 -0.047  0.     0.213 -0.028  0.     0.1\n",
      " -0.007  0.     0.285 -0.106 -0.     0.192 -0.06   0.   ]  |\n",
      "71.36683 \t|  [-0.     0.07  -0.187  0.     0.323 -0.516  0.     0.    -0.238  0.\n",
      "  0.148 -0.031  0.     0.087  0.086  0.    -0.031  0.146  0.     0.24\n",
      "  0.     0.     0.521 -0.32   0.     0.189 -0.07   0.   ]  |\n",
      "71.36683 \t|  [ 0.    -0.07  -0.189  0.    -0.32  -0.521  0.    -0.    -0.24   0.\n",
      " -0.146 -0.031  0.    -0.086  0.087 -0.     0.031  0.148 -0.    -0.238\n",
      "  0.    -0.    -0.516 -0.323 -0.    -0.187 -0.07  -0.   ]  |\n",
      "76.75818 \t|  [ 0.     0.     0.     0.19   0.     0.     0.272 -0.     0.     0.06\n",
      "  0.     0.    -0.     0.    -0.    -0.443 -0.    -0.    -0.385  0.\n",
      "  0.    -0.269  0.     0.    -0.051  0.     0.    -0.683]  |\n",
      "76.75818 \t|  [ 0.683  0.    -0.    -0.051  0.    -0.    -0.269 -0.    -0.    -0.385\n",
      "  0.    -0.    -0.443  0.     0.     0.    -0.     0.    -0.06   0.\n",
      " -0.    -0.272  0.    -0.    -0.19   0.    -0.     0.   ]  |\n",
      "196.26097 \t|  [-0.     0.     0.     0.073 -0.    -0.     0.458 -0.    -0.     0.128\n",
      " -0.    -0.     0.    -0.    -0.     0.079 -0.    -0.    -0.409  0.\n",
      " -0.    -0.483  0.     0.    -0.108  0.    -0.     0.592]  |\n",
      "196.26097 \t|  [ 0.592  0.     0.     0.108 -0.     0.     0.483 -0.     0.     0.409\n",
      " -0.     0.    -0.079 -0.     0.     0.    -0.     0.     0.128  0.\n",
      "  0.     0.458  0.    -0.     0.073 -0.     0.     0.   ]  |\n",
      "230.45052 \t|  [ 0.     0.052  0.149 -0.    -0.081 -0.249 -0.    -0.091 -0.393 -0.\n",
      " -0.087 -0.099  0.    -0.092 -0.422 -0.    -0.022 -0.398  0.     0.086\n",
      " -0.417  0.     0.054  0.372  0.    -0.033 -0.24  -0.   ]  |\n",
      "230.45052 \t|  [ 0.    -0.24   0.033  0.     0.372 -0.054  0.     0.417 -0.086  0.\n",
      "  0.398 -0.022 -0.     0.422 -0.092 -0.     0.099 -0.087  0.    -0.393\n",
      " -0.091  0.    -0.249  0.081  0.     0.149 -0.052  0.   ]  |\n",
      "371.53847 \t|  [ 0.     0.233  0.11  -0.    -0.142 -0.213 -0.     0.267  0.21   0.\n",
      "  0.132 -0.077  0.    -0.137 -0.265 -0.    -0.04   0.255 -0.    -0.108\n",
      "  0.517 -0.     0.11   0.274  0.    -0.057 -0.453 -0.   ]  |\n",
      "371.53847 \t|  [-0.     0.453 -0.057 -0.    -0.274  0.11   0.     0.517 -0.108  0.\n",
      "  0.255  0.04   0.    -0.265  0.137  0.    -0.077 -0.132  0.    -0.21\n",
      " -0.267 -0.     0.213 -0.142 -0.    -0.11   0.233  0.   ]  |\n",
      "532.95367 \t|  [ 0.    -0.249  0.446 -0.     0.033 -0.06  -0.     0.122 -0.238  0.\n",
      "  0.049 -0.395  0.    -0.098 -0.207  0.    -0.187  0.104 -0.     0.113\n",
      "  0.259 -0.     0.028 -0.071  0.    -0.211  0.526  0.   ]  |\n",
      "532.95367 \t|  [ 0.     0.526  0.211  0.    -0.071 -0.028 -0.    -0.259 -0.113 -0.\n",
      " -0.104 -0.187  0.     0.207 -0.098 -0.     0.395  0.049 -0.    -0.238\n",
      "  0.122  0.    -0.06  -0.033  0.     0.446  0.249  0.   ]  |\n",
      "554.77563 \t|  [ 0.355  0.    -0.    -0.23   0.     0.    -0.433 -0.    -0.     0.39\n",
      "  0.     0.     0.502  0.     0.    -0.     0.     0.    -0.272  0.\n",
      " -0.    -0.189 -0.     0.     0.346 -0.    -0.     0.   ]  |\n",
      "554.77563 \t|  [-0.    -0.     0.     0.346  0.     0.    -0.189  0.    -0.    -0.272\n",
      " -0.     0.    -0.    -0.     0.    -0.502 -0.     0.    -0.39  -0.\n",
      " -0.     0.433  0.    -0.     0.23  -0.    -0.     0.355]  |\n",
      "563.41985 \t|  [ 0.    -0.267 -0.068 -0.    -0.001 -0.08  -0.    -0.053  0.15   0.\n",
      " -0.368 -0.082  0.    -0.162 -0.039 -0.    -0.345 -0.088 -0.    -0.631\n",
      " -0.013 -0.     0.335  0.     0.     0.286  0.064  0.   ]  |\n",
      "563.41985 \t|  [ 0.    -0.064  0.286 -0.    -0.     0.335  0.    -0.013 -0.631  0.\n",
      " -0.088  0.345  0.    -0.039  0.162  0.    -0.082  0.368  0.    -0.15\n",
      "  0.053 -0.     0.08  -0.001 -0.     0.068 -0.267 -0.   ]  |\n",
      "695.46439 \t|  [-0.     0.076  0.434 -0.    -0.096 -0.26  -0.     0.068  0.233  0.\n",
      "  0.051  0.477 -0.     0.032 -0.036  0.    -0.416 -0.059 -0.     0.203\n",
      " -0.078  0.    -0.226 -0.11  -0.     0.378  0.087  0.   ]  |\n",
      "695.46439 \t|  [ 0.    -0.087  0.378  0.     0.11  -0.226 -0.    -0.078  0.203  0.\n",
      " -0.059  0.416 -0.    -0.036 -0.032 -0.     0.477 -0.051  0.    -0.233\n",
      " -0.068 -0.     0.26  -0.096 -0.    -0.434  0.076  0.   ]  |\n",
      "729.39850 \t|  [-0.165 -0.     0.    -0.364  0.    -0.    -0.225  0.     0.     0.405\n",
      " -0.    -0.    -0.357 -0.     0.     0.     0.     0.    -0.431  0.\n",
      " -0.     0.308  0.     0.    -0.467  0.    -0.    -0.   ]  |\n",
      "729.39850 \t|  [ 0.    -0.    -0.    -0.467  0.    -0.     0.308  0.    -0.    -0.431\n",
      " -0.     0.     0.    -0.    -0.     0.357  0.    -0.    -0.405  0.\n",
      "  0.     0.225 -0.    -0.     0.364  0.     0.    -0.165]  |\n",
      "731.27027 \t|  [-0.     0.038 -0.207 -0.    -0.031  0.032 -0.    -0.23  -0.248  0.\n",
      "  0.23   0.309 -0.     0.032 -0.078  0.    -0.126 -0.564 -0.    -0.101\n",
      "  0.564  0.     0.013 -0.075 -0.    -0.084  0.092  0.   ]  |\n",
      "731.27027 \t|  [ 0.    -0.092 -0.084  0.     0.075  0.013 -0.     0.564 -0.101  0.\n",
      " -0.564  0.126 -0.    -0.078 -0.032 -0.     0.309 -0.23   0.     0.248\n",
      "  0.23  -0.    -0.032 -0.031 -0.     0.207  0.038  0.   ]  |\n",
      "1086.39776 \t|  [ 0.     0.    -0.    -0.647 -0.     0.     0.186 -0.     0.    -0.052\n",
      " -0.     0.     0.     0.    -0.    -0.647 -0.     0.     0.293  0.\n",
      " -0.    -0.086  0.    -0.     0.044 -0.     0.     0.174]  |\n",
      "1086.39776 \t|  [ 0.174 -0.    -0.    -0.044  0.     0.     0.086 -0.     0.    -0.293\n",
      "  0.     0.     0.647 -0.    -0.     0.     0.     0.    -0.052 -0.\n",
      "  0.     0.186 -0.    -0.    -0.647  0.     0.     0.   ]  |\n",
      "1112.73515 \t|  [-0.    -0.053 -0.368  0.     0.015  0.116 -0.    -0.022 -0.014  0.\n",
      "  0.078  0.318 -0.    -0.15  -0.703  0.     0.068  0.365  0.     0.003\n",
      " -0.105 -0.    -0.025 -0.069  0.     0.079  0.25   0.   ]  |\n",
      "1112.73515 \t|  [ 0.     0.25  -0.079  0.    -0.069  0.025 -0.     0.105 -0.003  0.\n",
      " -0.365  0.068  0.     0.703 -0.15   0.    -0.318  0.078 -0.    -0.014\n",
      " -0.022  0.     0.116 -0.015 -0.    -0.368  0.053 -0.   ]  |\n",
      "\t\t-----------------------------------------------------------------------------------------------------------------------------------------------------------------------------------------------------------\n",
      "\n"
     ]
    }
   ],
   "source": [
    "\n",
    "########### print eigenvectors\n",
    "\n",
    "Yb.printEigenvectors() "
   ]
  },
  {
   "cell_type": "code",
   "execution_count": 4,
   "id": "98cd8831da32dc6d",
   "metadata": {
    "ExecuteTime": {
     "end_time": "2024-04-04T11:40:04.274213Z",
     "start_time": "2024-04-04T11:40:04.213355Z"
    },
    "collapsed": false,
    "jupyter": {
     "outputs_hidden": false
    }
   },
   "outputs": [
    {
     "data": {
      "image/png": "[encoded data removed]",
      "text/plain": [
       "<Figure size 640x480 with 1 Axes>"
      ]
     },
     "metadata": {},
     "output_type": "display_data"
    }
   ],
   "source": [
    "\n",
    "########### plot neutron spectrum\n",
    "\n",
    "hw = np.linspace(0,200,100)\n",
    "\n",
    "intens = Yb.normalizedNeutronSpectrum(hw, Temp=20, \n",
    "\tResFunc= lambda x: 4, gamma = 1)\n",
    "\n",
    "plt.figure()\n",
    "plt.plot(hw, intens)\n",
    "plt.show()\n"
   ]
  },
  {
   "cell_type": "code",
   "execution_count": 5,
   "id": "37666429",
   "metadata": {
    "ExecuteTime": {
     "end_time": "2024-04-04T11:40:04.277858Z",
     "start_time": "2024-04-04T11:40:04.274806Z"
    }
   },
   "outputs": [
    {
     "name": "stdout",
     "output_type": "stream",
     "text": [
      "G tensor:\n",
      " [[ 4.10513719+0.00000000e+00j  0.        +0.00000000e+00j\n",
      "   1.25024287+0.00000000e+00j]\n",
      " [ 0.        +0.00000000e+00j -4.29130033+0.00000000e+00j\n",
      "   0.        -2.77555756e-17j]\n",
      " [-1.78748989+0.00000000e+00j  0.        +0.00000000e+00j\n",
      "   5.86917262+0.00000000e+00j]]\n"
     ]
    }
   ],
   "source": [
    "\n",
    "########### print g tensor\n",
    "\n",
    "g = Yb.gtensor()\n",
    "print('G tensor:\\n',g)"
   ]
  },
  {
   "cell_type": "code",
   "execution_count": 6,
   "id": "e697385cceb07bdd",
   "metadata": {
    "ExecuteTime": {
     "end_time": "2024-04-04T11:40:04.282434Z",
     "start_time": "2024-04-04T11:40:04.279593Z"
    },
    "collapsed": false,
    "jupyter": {
     "outputs_hidden": false
    }
   },
   "outputs": [
    {
     "name": "stdout",
     "output_type": "stream",
     "text": [
      "\\begin{table*}\n",
      "\\begin{landscape}\n",
      "\\centering\n",
      "\\caption{Eigenvectors and Eigenvalues... $|L,S\\rangle$}\n",
      "\\begin{ruledtabular}\n",
      "\\begin{tabular}{c|cccccccccccccccccccccccccccc}\n",
      "E (meV) &$|-3,-\\frac{3}{2}\\rangle$ & $|-3,-\\frac{1}{2}\\rangle$ & $|-3,\\frac{1}{2}\\rangle$ & $|-3,\\frac{3}{2}\\rangle$ & $|-2,-\\frac{3}{2}\\rangle$ & $|-2,-\\frac{1}{2}\\rangle$ & $|-2,\\frac{1}{2}\\rangle$ & $|-2,\\frac{3}{2}\\rangle$ & $|-1,-\\frac{3}{2}\\rangle$ & $|-1,-\\frac{1}{2}\\rangle$ & $|-1,\\frac{1}{2}\\rangle$ & $|-1,\\frac{3}{2}\\rangle$ & $|0,-\\frac{3}{2}\\rangle$ & $|0,-\\frac{1}{2}\\rangle$ & $|0,\\frac{1}{2}\\rangle$ & $|0,\\frac{3}{2}\\rangle$ & $|1,-\\frac{3}{2}\\rangle$ & $|1,-\\frac{1}{2}\\rangle$ & $|1,\\frac{1}{2}\\rangle$ & $|1,\\frac{3}{2}\\rangle$ & $|2,-\\frac{3}{2}\\rangle$ & $|2,-\\frac{1}{2}\\rangle$ & $|2,\\frac{1}{2}\\rangle$ & $|2,\\frac{3}{2}\\rangle$ & $|3,-\\frac{3}{2}\\rangle$ & $|3,-\\frac{1}{2}\\rangle$ & $|3,\\frac{1}{2}\\rangle$ & $|3,\\frac{3}{2}\\rangle$ \\tabularnewline\n",
      " \\hline \n",
      "0.000 & 0.0 & -0.06 & -0.192 & -0.0 & -0.106 & -0.285 & 0.0 & 0.007 & -0.1 & 0.0 & 0.028 & 0.213 & 0.0 & 0.047 & 0.317 & 0.0 & 0.032 & 0.188 & 0.0 & 0.015 & 0.045 & 0.0 & 0.042 & 0.709 & 0.0 & 0.029 & 0.406 & 0.0 \\tabularnewline\n",
      "0.000 & 0.0 & -0.406 & 0.029 & -0.0 & -0.709 & 0.042 & -0.0 & 0.045 & 0.015 & -0.0 & 0.188 & -0.032 & -0.0 & 0.317 & -0.047 & 0.0 & 0.213 & -0.028 & 0.0 & 0.1 & -0.007 & 0.0 & 0.285 & -0.106 & -0.0 & 0.192 & -0.06 & 0.0 \\tabularnewline\n",
      "71.370 & -0.0 & 0.07 & -0.187 & 0.0 & 0.323 & -0.516 & 0.0 & 0.0 & -0.238 & 0.0 & 0.148 & -0.031 & 0.0 & 0.087 & 0.086 & 0.0 & -0.031 & 0.146 & 0.0 & 0.24 & 0.0 & 0.0 & 0.521 & -0.32 & 0.0 & 0.189 & -0.07 & 0.0 \\tabularnewline\n",
      "71.370 & 0.0 & -0.07 & -0.189 & 0.0 & -0.32 & -0.521 & 0.0 & -0.0 & -0.24 & 0.0 & -0.146 & -0.031 & 0.0 & -0.086 & 0.087 & -0.0 & 0.031 & 0.148 & -0.0 & -0.238 & 0.0 & -0.0 & -0.516 & -0.323 & -0.0 & -0.187 & -0.07 & -0.0 \\tabularnewline\n",
      "76.760 & 0.0 & 0.0 & 0.0 & 0.19 & 0.0 & 0.0 & 0.272 & -0.0 & 0.0 & 0.06 & 0.0 & 0.0 & -0.0 & 0.0 & -0.0 & -0.443 & -0.0 & -0.0 & -0.385 & 0.0 & 0.0 & -0.269 & 0.0 & 0.0 & -0.051 & 0.0 & 0.0 & -0.683 \\tabularnewline\n",
      "76.760 & 0.683 & 0.0 & -0.0 & -0.051 & 0.0 & -0.0 & -0.269 & -0.0 & -0.0 & -0.385 & 0.0 & -0.0 & -0.443 & 0.0 & 0.0 & 0.0 & -0.0 & 0.0 & -0.06 & 0.0 & -0.0 & -0.272 & 0.0 & -0.0 & -0.19 & 0.0 & -0.0 & 0.0 \\tabularnewline\n",
      "196.260 & -0.0 & 0.0 & 0.0 & 0.073 & -0.0 & -0.0 & 0.458 & -0.0 & -0.0 & 0.128 & -0.0 & -0.0 & 0.0 & -0.0 & -0.0 & 0.079 & -0.0 & -0.0 & -0.409 & 0.0 & -0.0 & -0.483 & 0.0 & 0.0 & -0.108 & 0.0 & -0.0 & 0.592 \\tabularnewline\n",
      "196.260 & 0.592 & 0.0 & 0.0 & 0.108 & -0.0 & 0.0 & 0.483 & -0.0 & 0.0 & 0.409 & -0.0 & 0.0 & -0.079 & -0.0 & 0.0 & 0.0 & -0.0 & 0.0 & 0.128 & 0.0 & 0.0 & 0.458 & 0.0 & -0.0 & 0.073 & -0.0 & 0.0 & 0.0 \\tabularnewline\n",
      "230.450 & 0.0 & 0.052 & 0.149 & -0.0 & -0.081 & -0.249 & -0.0 & -0.091 & -0.393 & -0.0 & -0.087 & -0.099 & 0.0 & -0.092 & -0.422 & -0.0 & -0.022 & -0.398 & 0.0 & 0.086 & -0.417 & 0.0 & 0.054 & 0.372 & 0.0 & -0.033 & -0.24 & -0.0 \\tabularnewline\n",
      "230.450 & 0.0 & -0.24 & 0.033 & 0.0 & 0.372 & -0.054 & 0.0 & 0.417 & -0.086 & 0.0 & 0.398 & -0.022 & -0.0 & 0.422 & -0.092 & -0.0 & 0.099 & -0.087 & 0.0 & -0.393 & -0.091 & 0.0 & -0.249 & 0.081 & 0.0 & 0.149 & -0.052 & 0.0 \\tabularnewline\n",
      "371.540 & 0.0 & 0.233 & 0.11 & -0.0 & -0.142 & -0.213 & -0.0 & 0.267 & 0.21 & 0.0 & 0.132 & -0.077 & 0.0 & -0.137 & -0.265 & -0.0 & -0.04 & 0.255 & -0.0 & -0.108 & 0.517 & -0.0 & 0.11 & 0.274 & 0.0 & -0.057 & -0.453 & -0.0 \\tabularnewline\n",
      "371.540 & -0.0 & 0.453 & -0.057 & -0.0 & -0.274 & 0.11 & 0.0 & 0.517 & -0.108 & 0.0 & 0.255 & 0.04 & 0.0 & -0.265 & 0.137 & 0.0 & -0.077 & -0.132 & 0.0 & -0.21 & -0.267 & -0.0 & 0.213 & -0.142 & -0.0 & -0.11 & 0.233 & 0.0 \\tabularnewline\n",
      "532.950 & 0.0 & -0.249 & 0.446 & -0.0 & 0.033 & -0.06 & -0.0 & 0.122 & -0.238 & 0.0 & 0.049 & -0.395 & 0.0 & -0.098 & -0.207 & 0.0 & -0.187 & 0.104 & -0.0 & 0.113 & 0.259 & -0.0 & 0.028 & -0.071 & 0.0 & -0.211 & 0.526 & 0.0 \\tabularnewline\n",
      "532.950 & 0.0 & 0.526 & 0.211 & 0.0 & -0.071 & -0.028 & -0.0 & -0.259 & -0.113 & -0.0 & -0.104 & -0.187 & 0.0 & 0.207 & -0.098 & -0.0 & 0.395 & 0.049 & -0.0 & -0.238 & 0.122 & 0.0 & -0.06 & -0.033 & 0.0 & 0.446 & 0.249 & 0.0 \\tabularnewline\n",
      "554.780 & 0.355 & 0.0 & -0.0 & -0.23 & 0.0 & 0.0 & -0.433 & -0.0 & -0.0 & 0.39 & 0.0 & 0.0 & 0.502 & 0.0 & 0.0 & -0.0 & 0.0 & 0.0 & -0.272 & 0.0 & -0.0 & -0.189 & -0.0 & 0.0 & 0.346 & -0.0 & -0.0 & 0.0 \\tabularnewline\n",
      "554.780 & -0.0 & -0.0 & 0.0 & 0.346 & 0.0 & 0.0 & -0.189 & 0.0 & -0.0 & -0.272 & -0.0 & 0.0 & -0.0 & -0.0 & 0.0 & -0.502 & -0.0 & 0.0 & -0.39 & -0.0 & -0.0 & 0.433 & 0.0 & -0.0 & 0.23 & -0.0 & -0.0 & 0.355 \\tabularnewline\n",
      "563.420 & 0.0 & -0.267 & -0.068 & -0.0 & -0.001 & -0.08 & -0.0 & -0.053 & 0.15 & 0.0 & -0.368 & -0.082 & 0.0 & -0.162 & -0.039 & -0.0 & -0.345 & -0.088 & -0.0 & -0.631 & -0.013 & -0.0 & 0.335 & 0.0 & 0.0 & 0.286 & 0.064 & 0.0 \\tabularnewline\n",
      "563.420 & 0.0 & -0.064 & 0.286 & -0.0 & -0.0 & 0.335 & 0.0 & -0.013 & -0.631 & 0.0 & -0.088 & 0.345 & 0.0 & -0.039 & 0.162 & 0.0 & -0.082 & 0.368 & 0.0 & -0.15 & 0.053 & -0.0 & 0.08 & -0.001 & -0.0 & 0.068 & -0.267 & -0.0 \\tabularnewline\n",
      "695.460 & -0.0 & 0.076 & 0.434 & -0.0 & -0.096 & -0.26 & -0.0 & 0.068 & 0.233 & 0.0 & 0.051 & 0.477 & -0.0 & 0.032 & -0.036 & 0.0 & -0.416 & -0.059 & -0.0 & 0.203 & -0.078 & 0.0 & -0.226 & -0.11 & -0.0 & 0.378 & 0.087 & 0.0 \\tabularnewline\n",
      "695.460 & 0.0 & -0.087 & 0.378 & 0.0 & 0.11 & -0.226 & -0.0 & -0.078 & 0.203 & 0.0 & -0.059 & 0.416 & -0.0 & -0.036 & -0.032 & -0.0 & 0.477 & -0.051 & 0.0 & -0.233 & -0.068 & -0.0 & 0.26 & -0.096 & -0.0 & -0.434 & 0.076 & 0.0 \\tabularnewline\n",
      "729.400 & -0.165 & -0.0 & 0.0 & -0.364 & 0.0 & -0.0 & -0.225 & 0.0 & 0.0 & 0.405 & -0.0 & -0.0 & -0.357 & -0.0 & 0.0 & 0.0 & 0.0 & 0.0 & -0.431 & 0.0 & -0.0 & 0.308 & 0.0 & 0.0 & -0.467 & 0.0 & -0.0 & -0.0 \\tabularnewline\n",
      "729.400 & 0.0 & -0.0 & -0.0 & -0.467 & 0.0 & -0.0 & 0.308 & 0.0 & -0.0 & -0.431 & -0.0 & 0.0 & 0.0 & -0.0 & -0.0 & 0.357 & 0.0 & -0.0 & -0.405 & 0.0 & 0.0 & 0.225 & -0.0 & -0.0 & 0.364 & 0.0 & 0.0 & -0.165 \\tabularnewline\n",
      "731.270 & -0.0 & 0.038 & -0.207 & -0.0 & -0.031 & 0.032 & -0.0 & -0.23 & -0.248 & 0.0 & 0.23 & 0.309 & -0.0 & 0.032 & -0.078 & 0.0 & -0.126 & -0.564 & -0.0 & -0.101 & 0.564 & 0.0 & 0.013 & -0.075 & -0.0 & -0.084 & 0.092 & 0.0 \\tabularnewline\n",
      "731.270 & 0.0 & -0.092 & -0.084 & 0.0 & 0.075 & 0.013 & -0.0 & 0.564 & -0.101 & 0.0 & -0.564 & 0.126 & -0.0 & -0.078 & -0.032 & -0.0 & 0.309 & -0.23 & 0.0 & 0.248 & 0.23 & -0.0 & -0.032 & -0.031 & -0.0 & 0.207 & 0.038 & 0.0 \\tabularnewline\n",
      "1086.400 & 0.0 & 0.0 & -0.0 & -0.647 & -0.0 & 0.0 & 0.186 & -0.0 & 0.0 & -0.052 & -0.0 & 0.0 & 0.0 & 0.0 & -0.0 & -0.647 & -0.0 & 0.0 & 0.293 & 0.0 & -0.0 & -0.086 & 0.0 & -0.0 & 0.044 & -0.0 & 0.0 & 0.174 \\tabularnewline\n",
      "1086.400 & 0.174 & -0.0 & -0.0 & -0.044 & 0.0 & 0.0 & 0.086 & -0.0 & 0.0 & -0.293 & 0.0 & 0.0 & 0.647 & -0.0 & -0.0 & 0.0 & 0.0 & 0.0 & -0.052 & -0.0 & 0.0 & 0.186 & -0.0 & -0.0 & -0.647 & 0.0 & 0.0 & 0.0 \\tabularnewline\n",
      "1112.740 & -0.0 & -0.053 & -0.368 & 0.0 & 0.015 & 0.116 & -0.0 & -0.022 & -0.014 & 0.0 & 0.078 & 0.318 & -0.0 & -0.15 & -0.703 & 0.0 & 0.068 & 0.365 & 0.0 & 0.003 & -0.105 & -0.0 & -0.025 & -0.069 & 0.0 & 0.079 & 0.25 & 0.0 \\tabularnewline\n",
      "1112.740 & 0.0 & 0.25 & -0.079 & 0.0 & -0.069 & 0.025 & -0.0 & 0.105 & -0.003 & 0.0 & -0.365 & 0.068 & 0.0 & 0.703 & -0.15 & 0.0 & -0.318 & 0.078 & -0.0 & -0.014 & -0.022 & 0.0 & 0.116 & -0.015 & -0.0 & -0.368 & 0.053 & -0.0 \\tabularnewline\n",
      "\\end{tabular}\\end{ruledtabular}\n",
      "\\label{flo:Eigenvectors}\n",
      "\\end{landscape}\n",
      "\\end{table*}\n"
     ]
    }
   ],
   "source": [
    "Yb.printLaTexEigenvectors()"
   ]
  },
  {
   "cell_type": "code",
   "execution_count": null,
   "id": "6c89a5aa9e4b1137",
   "metadata": {
    "ExecuteTime": {
     "end_time": "2024-04-04T11:40:04.284386Z",
     "start_time": "2024-04-04T11:40:04.283144Z"
    },
    "collapsed": false,
    "jupyter": {
     "outputs_hidden": false
    }
   },
   "outputs": [],
   "source": []
  }
 ],
 "metadata": {
  "kernelspec": {
   "display_name": "Python 3 (ipykernel)",
   "language": "python",
   "name": "python3"
  },
  "language_info": {
   "codemirror_mode": {
    "name": "ipython",
    "version": 3
   },
   "file_extension": ".py",
   "mimetype": "text/x-python",
   "name": "python",
   "nbconvert_exporter": "python",
   "pygments_lexer": "ipython3",
   "version": "3.10.0"
  }
 },
 "nbformat": 4,
 "nbformat_minor": 5
}
